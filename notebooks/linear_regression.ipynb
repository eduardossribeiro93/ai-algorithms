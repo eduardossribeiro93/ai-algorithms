{
 "cells": [
  {
   "cell_type": "markdown",
   "metadata": {},
   "source": [
    "# Linear regression (w/gradient descent)"
   ]
  },
  {
   "cell_type": "markdown",
   "metadata": {},
   "source": [
    "**Initial setup**"
   ]
  },
  {
   "cell_type": "code",
   "execution_count": 1,
   "metadata": {},
   "outputs": [],
   "source": [
    "# Import relevant Python packages\n",
    "import numpy as np\n",
    "import matplotlib.pyplot as plt"
   ]
  },
  {
   "cell_type": "code",
   "execution_count": 2,
   "metadata": {},
   "outputs": [],
   "source": [
    "# Create training data\n",
    "X_train = np.array([10, 4, 3, 6, 9, 11, 3, 4])\n",
    "y_train = np.array([23, 11, 9, 15, 21, 25, 9, 11])"
   ]
  },
  {
   "cell_type": "markdown",
   "metadata": {},
   "source": [
    "**Simplest manual approach (intuition)**"
   ]
  },
  {
   "cell_type": "code",
   "execution_count": 3,
   "metadata": {},
   "outputs": [
    {
     "name": "stdout",
     "output_type": "stream",
     "text": [
      "Total cost is 95.000.\n"
     ]
    }
   ],
   "source": [
    "# Set the parameters manually\n",
    "w = 1\n",
    "b = 0\n",
    "m = X_train.shape[0]\n",
    "\n",
    "# Predict y and compute cost\n",
    "y_pred = np.zeros(m)\n",
    "cost = 0\n",
    "for i in range(m):\n",
    "    y_pred[i] = w*X_train[i] + b\n",
    "    cost = cost + (y_pred[i] - y_train[i]) ** 2\n",
    "\n",
    "cost = cost/m \n",
    "print(f\"Total cost is {cost:.3f}.\")"
   ]
  },
  {
   "cell_type": "code",
   "execution_count": 4,
   "metadata": {},
   "outputs": [
    {
     "data": {
      "image/png": "[encoded data removed]",
      "text/plain": [
       "<Figure size 432x288 with 1 Axes>"
      ]
     },
     "metadata": {
      "needs_background": "light"
     },
     "output_type": "display_data"
    }
   ],
   "source": [
    "# Plot y predictions\n",
    "plt.scatter(X_train, y_train)\n",
    "plt.plot(X_train, y_pred, color='orange')\n",
    "plt.title(\"Y prediction w/linear regression (manual parameters)\")\n",
    "plt.show()"
   ]
  },
  {
   "cell_type": "markdown",
   "metadata": {},
   "source": [
    "**Implementation with gradient descent**"
   ]
  },
  {
   "cell_type": "code",
   "execution_count": 7,
   "metadata": {},
   "outputs": [
    {
     "name": "stdout",
     "output_type": "stream",
     "text": [
      "Iteration 0: w = 1.157; b = 0.155; Total cost is 72.481.\n",
      "Iteration 100: w = 2.280; b = 0.838; Total cost is 0.909.\n",
      "Iteration 200: w = 2.225; b = 1.264; Total cost is 0.587.\n",
      "Iteration 300: w = 2.180; b = 1.605; Total cost is 0.379.\n",
      "Iteration 400: w = 2.145; b = 1.880; Total cost is 0.244.\n",
      "Iteration 500: w = 2.116; b = 2.100; Total cost is 0.158.\n",
      "Iteration 600: w = 2.094; b = 2.277; Total cost is 0.102.\n",
      "Iteration 700: w = 2.075; b = 2.419; Total cost is 0.066.\n",
      "Iteration 800: w = 2.060; b = 2.533; Total cost is 0.042.\n",
      "Iteration 900: w = 2.048; b = 2.625; Total cost is 0.027.\n",
      "Iteration 1000: w = 2.039; b = 2.699; Total cost is 0.018.\n",
      "Iteration 1100: w = 2.031; b = 2.758; Total cost is 0.011.\n",
      "Iteration 1200: w = 2.025; b = 2.806; Total cost is 0.007.\n",
      "Iteration 1300: w = 2.020; b = 2.844; Total cost is 0.005.\n",
      "Iteration 1400: w = 2.016; b = 2.875; Total cost is 0.003.\n",
      "Final iteration was 1468: w = 2.014; b = 2.892; Total cost is 0.002.\n"
     ]
    }
   ],
   "source": [
    "# Set parameters\n",
    "w = 0\n",
    "b = 0\n",
    "m = X_train.shape[0]\n",
    "\n",
    "n_iter = 10_000         # number of interations\n",
    "lr = 0.01              # learning rate\n",
    "hist_cost = []         # function cost \n",
    "early_stop = 0.00001   # minimum improvement between iterations\n",
    "\n",
    "# Predict y and compute cost\n",
    "dj_dw = 0\n",
    "dj_db = 0\n",
    "\n",
    "for iter in range(n_iter):\n",
    "    # Apply gradient descent\n",
    "    for i in range(m):\n",
    "        f_wb_i = w * X_train[i] + b \n",
    "        dj_dw_i = (f_wb_i - y_train[i]) * X_train[i] \n",
    "        dj_db_i = (f_wb_i - y_train[i])\n",
    "\n",
    "        dj_dw = dj_dw + dj_dw_i \n",
    "        dj_db = dj_db + dj_db_i \n",
    "\n",
    "    dj_dw = dj_dw * (1/m) \n",
    "    dj_db = dj_db * (1/m)\n",
    "\n",
    "    # Update coefficients\n",
    "    w = w - lr * dj_dw \n",
    "    b = b - lr * dj_db \n",
    "\n",
    "    # Predict y and compute cost\n",
    "    y_pred = np.zeros(m)\n",
    "    cost = 0\n",
    "    for j in range(m):\n",
    "        y_pred[j] = w*X_train[j] + b\n",
    "        cost = cost + (y_pred[j] - y_train[j]) ** 2\n",
    "\n",
    "    cost = cost/m \n",
    "    if iter % 100 == 0:\n",
    "        print(f\"Iteration {iter}: w = {w:.3f}; b = {b:.3f}; Total cost is {cost:.3f}.\")\n",
    "\n",
    "    # Early stop\n",
    "    hist_cost.append(cost)\n",
    "    if iter > 0 and hist_cost[iter-1] - hist_cost[iter] < early_stop:\n",
    "        print(f\"Final iteration was {iter}: w = {w:.3f}; b = {b:.3f}; Total cost is {cost:.3f}.\")\n",
    "        break"
   ]
  },
  {
   "cell_type": "code",
   "execution_count": 8,
   "metadata": {},
   "outputs": [
    {
     "data": {
      "image/png": "[encoded data removed]",
      "text/plain": [
       "<Figure size 432x288 with 1 Axes>"
      ]
     },
     "metadata": {
      "needs_background": "light"
     },
     "output_type": "display_data"
    }
   ],
   "source": [
    "# Plot y predictions\n",
    "plt.scatter(X_train, y_train)\n",
    "plt.plot(X_train, y_pred, color='orange')\n",
    "plt.title(\"Y prediction w/linear regression (gradient descent)\")\n",
    "plt.show()"
   ]
  }
 ],
 "metadata": {
  "kernelspec": {
   "display_name": "Python 3",
   "language": "python",
   "name": "python3"
  },
  "language_info": {
   "codemirror_mode": {
    "name": "ipython",
    "version": 3
   },
   "file_extension": ".py",
   "mimetype": "text/x-python",
   "name": "python",
   "nbconvert_exporter": "python",
   "pygments_lexer": "ipython3",
   "version": "3.10.4"
  }
 },
 "nbformat": 4,
 "nbformat_minor": 2
}
